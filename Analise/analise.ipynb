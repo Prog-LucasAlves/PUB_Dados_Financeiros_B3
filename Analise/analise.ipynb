{
 "cells": [
  {
   "cell_type": "code",
   "execution_count": 20,
   "metadata": {},
   "outputs": [],
   "source": [
    "import pandas as pd\n",
    "import numpy as np\n",
    "\n",
    "import os\n",
    "import psycopg2\n",
    "import dotenv\n",
    "\n",
    "import matplotlib.pyplot as plt\n",
    "import seaborn as sns\n",
    "\n",
    "dotenv.load_dotenv(dotenv.find_dotenv())\n",
    "\n",
    "pd.set_option('display.float_format', lambda x: '%.2f' % x)"
   ]
  },
  {
   "cell_type": "code",
   "execution_count": 21,
   "metadata": {},
   "outputs": [],
   "source": [
    "# Cria conexão com o banco de dados\n",
    "def conexao():\n",
    "    con = psycopg2.connect(\n",
    "        user=os.getenv(\"POSTGRES_USER\"),\n",
    "        password=os.getenv(\"POSTGRES_PASSWORD\"),\n",
    "        database=os.getenv(\"POSTGRES_DB\"),\n",
    "        host=\"localhost\",\n",
    "    )\n",
    "    \n",
    "    return con\n",
    "\n",
    "# Cria função para selecionar os dados\n",
    "def se_dados(query):\n",
    "    vcon = conexao()\n",
    "    c = vcon.cursor()\n",
    "    c.execute(query)\n",
    "    rows = c.fetchall()\n",
    "    vcon.commit()\n",
    "    vcon.close()\n",
    "    return rows"
   ]
  },
  {
   "cell_type": "code",
   "execution_count": 50,
   "metadata": {},
   "outputs": [
    {
     "data": {
      "application/vnd.microsoft.datawrangler.viewer.v0+json": {
       "columns": [
        {
         "name": "Data",
         "rawType": "object",
         "type": "unknown"
        },
        {
         "name": "Papel",
         "rawType": "object",
         "type": "string"
        },
        {
         "name": "Cotação",
         "rawType": "object",
         "type": "string"
        },
        {
         "name": "PL",
         "rawType": "float64",
         "type": "float"
        },
        {
         "name": "Ev_Ebitda",
         "rawType": "float64",
         "type": "float"
        },
        {
         "name": "VPA",
         "rawType": "float64",
         "type": "float"
        }
       ],
       "conversionMethod": "pd.DataFrame",
       "ref": "50208bde-f5ef-40ad-af67-44ff3da83782",
       "rows": [
        [
         "2023-11-14",
         "ENAT3",
         "R$ 16,19",
         "62.23",
         "5.79",
         "14.58"
        ],
        [
         "2023-11-16",
         "ENAT3",
         "R$ 15,98",
         "61.43",
         "5.72",
         "14.58"
        ],
        [
         "2023-11-17",
         "ENAT3",
         "R$ 16,16",
         "62.12",
         "5.78",
         "14.58"
        ],
        [
         "2023-11-20",
         "ENAT3",
         "R$ 16,53",
         "63.54",
         "5.89",
         "14.58"
        ],
        [
         "2023-11-21",
         "ENAT3",
         "R$ 16,36",
         "62.89",
         "5.84",
         "14.58"
        ]
       ],
       "shape": {
        "columns": 5,
        "rows": 5
       }
      },
      "text/html": [
       "<div>\n",
       "<style scoped>\n",
       "    .dataframe tbody tr th:only-of-type {\n",
       "        vertical-align: middle;\n",
       "    }\n",
       "\n",
       "    .dataframe tbody tr th {\n",
       "        vertical-align: top;\n",
       "    }\n",
       "\n",
       "    .dataframe thead th {\n",
       "        text-align: right;\n",
       "    }\n",
       "</style>\n",
       "<table border=\"1\" class=\"dataframe\">\n",
       "  <thead>\n",
       "    <tr style=\"text-align: right;\">\n",
       "      <th></th>\n",
       "      <th>Papel</th>\n",
       "      <th>Cotação</th>\n",
       "      <th>PL</th>\n",
       "      <th>Ev_Ebitda</th>\n",
       "      <th>VPA</th>\n",
       "    </tr>\n",
       "    <tr>\n",
       "      <th>Data</th>\n",
       "      <th></th>\n",
       "      <th></th>\n",
       "      <th></th>\n",
       "      <th></th>\n",
       "      <th></th>\n",
       "    </tr>\n",
       "  </thead>\n",
       "  <tbody>\n",
       "    <tr>\n",
       "      <th>2023-11-14</th>\n",
       "      <td>ENAT3</td>\n",
       "      <td>R$ 16,19</td>\n",
       "      <td>62.23</td>\n",
       "      <td>5.79</td>\n",
       "      <td>14.58</td>\n",
       "    </tr>\n",
       "    <tr>\n",
       "      <th>2023-11-16</th>\n",
       "      <td>ENAT3</td>\n",
       "      <td>R$ 15,98</td>\n",
       "      <td>61.43</td>\n",
       "      <td>5.72</td>\n",
       "      <td>14.58</td>\n",
       "    </tr>\n",
       "    <tr>\n",
       "      <th>2023-11-17</th>\n",
       "      <td>ENAT3</td>\n",
       "      <td>R$ 16,16</td>\n",
       "      <td>62.12</td>\n",
       "      <td>5.78</td>\n",
       "      <td>14.58</td>\n",
       "    </tr>\n",
       "    <tr>\n",
       "      <th>2023-11-20</th>\n",
       "      <td>ENAT3</td>\n",
       "      <td>R$ 16,53</td>\n",
       "      <td>63.54</td>\n",
       "      <td>5.89</td>\n",
       "      <td>14.58</td>\n",
       "    </tr>\n",
       "    <tr>\n",
       "      <th>2023-11-21</th>\n",
       "      <td>ENAT3</td>\n",
       "      <td>R$ 16,36</td>\n",
       "      <td>62.89</td>\n",
       "      <td>5.84</td>\n",
       "      <td>14.58</td>\n",
       "    </tr>\n",
       "  </tbody>\n",
       "</table>\n",
       "</div>"
      ],
      "text/plain": [
       "            Papel   Cotação    PL  Ev_Ebitda   VPA\n",
       "Data                                              \n",
       "2023-11-14  ENAT3  R$ 16,19 62.23       5.79 14.58\n",
       "2023-11-16  ENAT3  R$ 15,98 61.43       5.72 14.58\n",
       "2023-11-17  ENAT3  R$ 16,16 62.12       5.78 14.58\n",
       "2023-11-20  ENAT3  R$ 16,53 63.54       5.89 14.58\n",
       "2023-11-21  ENAT3  R$ 16,36 62.89       5.84 14.58"
      ]
     },
     "execution_count": 50,
     "metadata": {},
     "output_type": "execute_result"
    }
   ],
   "source": [
    "ticker = 'ENAT3'\n",
    "\n",
    "# Cria query \n",
    "query = f\" SELECT DISTINCT data_ult_cotacao, papel, cotacao, pl, ev_ebitda, vpa \\\n",
    "            FROM dados \\\n",
    "                WHERE papel = '{ticker}' \\\n",
    "                        ORDER BY 2 \"\n",
    "result = se_dados(query)\n",
    "\n",
    "# Cria DataFrame \n",
    "df_rl = pd.DataFrame(result)\n",
    "\n",
    "df_rl.rename(columns={0:'Data', \n",
    "    1:'Papel', \n",
    "    2:'Cotação',\n",
    "    3:'PL',\n",
    "    4:'Ev_Ebitda',\n",
    "    5:'VPA' }, inplace=True)\n",
    "\n",
    "df_rl.set_index('Data', inplace = True)\n",
    "\n",
    "df_rl.head()"
   ]
  },
  {
   "cell_type": "code",
   "execution_count": 51,
   "metadata": {},
   "outputs": [
    {
     "name": "stdout",
     "output_type": "stream",
     "text": [
      "Papel         object\n",
      "Cotação       object\n",
      "PL           float64\n",
      "Ev_Ebitda    float64\n",
      "VPA          float64\n",
      "dtype: object\n",
      "-------\n",
      "Papel         object\n",
      "Cotação      float64\n",
      "PL           float64\n",
      "Ev_Ebitda    float64\n",
      "VPA          float64\n",
      "dtype: object\n"
     ]
    },
    {
     "data": {
      "application/vnd.microsoft.datawrangler.viewer.v0+json": {
       "columns": [
        {
         "name": "Data",
         "rawType": "object",
         "type": "unknown"
        },
        {
         "name": "Papel",
         "rawType": "object",
         "type": "string"
        },
        {
         "name": "Cotação",
         "rawType": "float64",
         "type": "float"
        },
        {
         "name": "PL",
         "rawType": "float64",
         "type": "float"
        },
        {
         "name": "Ev_Ebitda",
         "rawType": "float64",
         "type": "float"
        },
        {
         "name": "VPA",
         "rawType": "float64",
         "type": "float"
        }
       ],
       "conversionMethod": "pd.DataFrame",
       "ref": "6135aa6c-3334-4a1d-9f99-97c59b0f5765",
       "rows": [
        [
         "2023-11-14",
         "ENAT3",
         "16.19",
         "62.23",
         "5.79",
         "14.58"
        ],
        [
         "2023-11-16",
         "ENAT3",
         "15.98",
         "61.43",
         "5.72",
         "14.58"
        ],
        [
         "2023-11-17",
         "ENAT3",
         "16.16",
         "62.12",
         "5.78",
         "14.58"
        ],
        [
         "2023-11-20",
         "ENAT3",
         "16.53",
         "63.54",
         "5.89",
         "14.58"
        ],
        [
         "2023-11-21",
         "ENAT3",
         "16.36",
         "62.89",
         "5.84",
         "14.58"
        ],
        [
         "2023-11-22",
         "ENAT3",
         "15.65",
         "60.16",
         "5.62",
         "14.58"
        ],
        [
         "2023-11-23",
         "ENAT3",
         "15.71",
         "60.39",
         "5.64",
         "14.58"
        ],
        [
         "2023-11-24",
         "ENAT3",
         "15.69",
         "60.31",
         "5.63",
         "14.58"
        ],
        [
         "2023-11-27",
         "ENAT3",
         "15.46",
         "59.43",
         "5.56",
         "14.58"
        ],
        [
         "2023-11-28",
         "ENAT3",
         "15.63",
         "60.08",
         "5.61",
         "14.58"
        ],
        [
         "2023-11-29",
         "ENAT3",
         "15.58",
         "59.89",
         "5.6",
         "14.58"
        ],
        [
         "2023-11-30",
         "ENAT3",
         "15.49",
         "59.54",
         "5.57",
         "14.58"
        ],
        [
         "2023-12-01",
         "ENAT3",
         "15.4",
         "59.2",
         "5.54",
         "14.58"
        ],
        [
         "2023-12-04",
         "ENAT3",
         "14.84",
         "57.04",
         "5.37",
         "14.58"
        ],
        [
         "2023-12-05",
         "ENAT3",
         "14.54",
         "55.89",
         "5.27",
         "14.58"
        ],
        [
         "2023-12-06",
         "ENAT3",
         "14.33",
         "55.08",
         "5.21",
         "14.58"
        ],
        [
         "2023-12-07",
         "ENAT3",
         "14.7",
         "56.51",
         "5.32",
         "14.58"
        ],
        [
         "2023-12-08",
         "ENAT3",
         "15.08",
         "57.97",
         "5.44",
         "14.58"
        ],
        [
         "2023-12-11",
         "ENAT3",
         "14.86",
         "57.12",
         "5.37",
         "14.58"
        ],
        [
         "2023-12-12",
         "ENAT3",
         "14.57",
         "56.01",
         "5.28",
         "14.58"
        ],
        [
         "2023-12-13",
         "ENAT3",
         "14.98",
         "57.58",
         "5.41",
         "14.58"
        ],
        [
         "2023-12-14",
         "ENAT3",
         "15.34",
         "58.97",
         "5.52",
         "14.58"
        ],
        [
         "2023-12-15",
         "ENAT3",
         "15.63",
         "60.08",
         "5.61",
         "14.58"
        ],
        [
         "2023-12-19",
         "ENAT3",
         "15.77",
         "60.62",
         "5.66",
         "14.58"
        ],
        [
         "2023-12-20",
         "ENAT3",
         "15.55",
         "59.77",
         "5.59",
         "14.58"
        ],
        [
         "2023-12-21",
         "ENAT3",
         "16.47",
         "63.31",
         "5.88",
         "14.58"
        ],
        [
         "2023-12-22",
         "ENAT3",
         "18.38",
         "70.65",
         "6.47",
         "14.58"
        ],
        [
         "2023-12-26",
         "ENAT3",
         "20.47",
         "78.69",
         "7.12",
         "14.58"
        ],
        [
         "2023-12-27",
         "ENAT3",
         "19.81",
         "76.15",
         "6.92",
         "14.58"
        ],
        [
         "2023-12-28",
         "ENAT3",
         "20.09",
         "77.22",
         "7.0",
         "14.58"
        ],
        [
         "2024-01-02",
         "ENAT3",
         "19.13",
         "73.53",
         "6.7",
         "14.58"
        ],
        [
         "2024-01-03",
         "ENAT3",
         "19.43",
         "74.69",
         "6.8",
         "14.58"
        ],
        [
         "2024-01-04",
         "ENAT3",
         "18.71",
         "71.92",
         "6.57",
         "14.58"
        ],
        [
         "2024-01-05",
         "ENAT3",
         "19.0",
         "73.03",
         "6.66",
         "14.58"
        ],
        [
         "2024-01-08",
         "ENAT3",
         "18.5",
         "71.11",
         "6.51",
         "14.58"
        ],
        [
         "2024-01-09",
         "ENAT3",
         "18.69",
         "71.84",
         "6.57",
         "14.58"
        ],
        [
         "2024-01-10",
         "ENAT3",
         "18.43",
         "70.84",
         "6.49",
         "14.58"
        ],
        [
         "2024-01-11",
         "ENAT3",
         "18.57",
         "71.38",
         "6.53",
         "14.58"
        ],
        [
         "2024-01-12",
         "ENAT3",
         "18.63",
         "71.61",
         "6.55",
         "14.58"
        ],
        [
         "2024-01-15",
         "ENAT3",
         "19.42",
         "74.65",
         "6.79",
         "14.58"
        ],
        [
         "2024-01-16",
         "ENAT3",
         "18.93",
         "72.77",
         "6.64",
         "14.58"
        ],
        [
         "2024-01-17",
         "ENAT3",
         "19.35",
         "74.38",
         "6.77",
         "14.58"
        ],
        [
         "2024-01-18",
         "ENAT3",
         "19.0",
         "73.03",
         "6.66",
         "14.58"
        ],
        [
         "2024-01-19",
         "ENAT3",
         "19.24",
         "73.96",
         "6.74",
         "14.58"
        ],
        [
         "2024-01-22",
         "ENAT3",
         "19.43",
         "74.69",
         "6.8",
         "14.58"
        ],
        [
         "2024-01-23",
         "ENAT3",
         "18.98",
         "72.96",
         "6.66",
         "14.58"
        ],
        [
         "2024-01-24",
         "ENAT3",
         "19.08",
         "73.34",
         "6.69",
         "14.58"
        ],
        [
         "2024-01-25",
         "ENAT3",
         "19.57",
         "75.23",
         "6.84",
         "14.58"
        ],
        [
         "2024-01-26",
         "ENAT3",
         "19.7",
         "75.73",
         "6.88",
         "14.58"
        ],
        [
         "2024-01-29",
         "ENAT3",
         "19.42",
         "74.65",
         "6.79",
         "14.58"
        ]
       ],
       "shape": {
        "columns": 5,
        "rows": 169
       }
      },
      "text/html": [
       "<div>\n",
       "<style scoped>\n",
       "    .dataframe tbody tr th:only-of-type {\n",
       "        vertical-align: middle;\n",
       "    }\n",
       "\n",
       "    .dataframe tbody tr th {\n",
       "        vertical-align: top;\n",
       "    }\n",
       "\n",
       "    .dataframe thead th {\n",
       "        text-align: right;\n",
       "    }\n",
       "</style>\n",
       "<table border=\"1\" class=\"dataframe\">\n",
       "  <thead>\n",
       "    <tr style=\"text-align: right;\">\n",
       "      <th></th>\n",
       "      <th>Papel</th>\n",
       "      <th>Cotação</th>\n",
       "      <th>PL</th>\n",
       "      <th>Ev_Ebitda</th>\n",
       "      <th>VPA</th>\n",
       "    </tr>\n",
       "    <tr>\n",
       "      <th>Data</th>\n",
       "      <th></th>\n",
       "      <th></th>\n",
       "      <th></th>\n",
       "      <th></th>\n",
       "      <th></th>\n",
       "    </tr>\n",
       "  </thead>\n",
       "  <tbody>\n",
       "    <tr>\n",
       "      <th>2023-11-14</th>\n",
       "      <td>ENAT3</td>\n",
       "      <td>16.19</td>\n",
       "      <td>62.23</td>\n",
       "      <td>5.79</td>\n",
       "      <td>14.58</td>\n",
       "    </tr>\n",
       "    <tr>\n",
       "      <th>2023-11-16</th>\n",
       "      <td>ENAT3</td>\n",
       "      <td>15.98</td>\n",
       "      <td>61.43</td>\n",
       "      <td>5.72</td>\n",
       "      <td>14.58</td>\n",
       "    </tr>\n",
       "    <tr>\n",
       "      <th>2023-11-17</th>\n",
       "      <td>ENAT3</td>\n",
       "      <td>16.16</td>\n",
       "      <td>62.12</td>\n",
       "      <td>5.78</td>\n",
       "      <td>14.58</td>\n",
       "    </tr>\n",
       "    <tr>\n",
       "      <th>2023-11-20</th>\n",
       "      <td>ENAT3</td>\n",
       "      <td>16.53</td>\n",
       "      <td>63.54</td>\n",
       "      <td>5.89</td>\n",
       "      <td>14.58</td>\n",
       "    </tr>\n",
       "    <tr>\n",
       "      <th>2023-11-21</th>\n",
       "      <td>ENAT3</td>\n",
       "      <td>16.36</td>\n",
       "      <td>62.89</td>\n",
       "      <td>5.84</td>\n",
       "      <td>14.58</td>\n",
       "    </tr>\n",
       "    <tr>\n",
       "      <th>...</th>\n",
       "      <td>...</td>\n",
       "      <td>...</td>\n",
       "      <td>...</td>\n",
       "      <td>...</td>\n",
       "      <td>...</td>\n",
       "    </tr>\n",
       "    <tr>\n",
       "      <th>2024-07-25</th>\n",
       "      <td>ENAT3</td>\n",
       "      <td>20.70</td>\n",
       "      <td>121.32</td>\n",
       "      <td>6.15</td>\n",
       "      <td>15.63</td>\n",
       "    </tr>\n",
       "    <tr>\n",
       "      <th>2024-07-26</th>\n",
       "      <td>ENAT3</td>\n",
       "      <td>20.61</td>\n",
       "      <td>120.79</td>\n",
       "      <td>6.12</td>\n",
       "      <td>15.63</td>\n",
       "    </tr>\n",
       "    <tr>\n",
       "      <th>2024-07-29</th>\n",
       "      <td>ENAT3</td>\n",
       "      <td>21.37</td>\n",
       "      <td>125.24</td>\n",
       "      <td>6.31</td>\n",
       "      <td>15.63</td>\n",
       "    </tr>\n",
       "    <tr>\n",
       "      <th>2024-07-30</th>\n",
       "      <td>ENAT3</td>\n",
       "      <td>21.41</td>\n",
       "      <td>-26.49</td>\n",
       "      <td>6.22</td>\n",
       "      <td>15.71</td>\n",
       "    </tr>\n",
       "    <tr>\n",
       "      <th>2024-07-31</th>\n",
       "      <td>ENAT3</td>\n",
       "      <td>21.64</td>\n",
       "      <td>-26.73</td>\n",
       "      <td>6.27</td>\n",
       "      <td>15.73</td>\n",
       "    </tr>\n",
       "  </tbody>\n",
       "</table>\n",
       "<p>169 rows × 5 columns</p>\n",
       "</div>"
      ],
      "text/plain": [
       "            Papel  Cotação     PL  Ev_Ebitda   VPA\n",
       "Data                                              \n",
       "2023-11-14  ENAT3    16.19  62.23       5.79 14.58\n",
       "2023-11-16  ENAT3    15.98  61.43       5.72 14.58\n",
       "2023-11-17  ENAT3    16.16  62.12       5.78 14.58\n",
       "2023-11-20  ENAT3    16.53  63.54       5.89 14.58\n",
       "2023-11-21  ENAT3    16.36  62.89       5.84 14.58\n",
       "...           ...      ...    ...        ...   ...\n",
       "2024-07-25  ENAT3    20.70 121.32       6.15 15.63\n",
       "2024-07-26  ENAT3    20.61 120.79       6.12 15.63\n",
       "2024-07-29  ENAT3    21.37 125.24       6.31 15.63\n",
       "2024-07-30  ENAT3    21.41 -26.49       6.22 15.71\n",
       "2024-07-31  ENAT3    21.64 -26.73       6.27 15.73\n",
       "\n",
       "[169 rows x 5 columns]"
      ]
     },
     "execution_count": 51,
     "metadata": {},
     "output_type": "execute_result"
    }
   ],
   "source": [
    "print(df_rl.dtypes)\n",
    "\n",
    "df_rl['Cotação'] = df_rl['Cotação'].str.replace('R$',' ', regex=False).str.replace(',', '.').astype(float)\n",
    "#df_rl['Cotação'] = df_rl['Cotação'].str.replace('$','', regex=True) \n",
    "#df_rl['Cotação'] = df_rl['Cotação'].str.replace(',','.') # Alterando de virgula para ponto\n",
    "#df_rl['Cotação'] = df_rl['Cotação'].apply(pd.to_numeric)  \n",
    "print('-------')\n",
    "print(df_rl.dtypes)\n",
    "df_rl"
   ]
  },
  {
   "cell_type": "code",
   "execution_count": null,
   "metadata": {},
   "outputs": [
    {
     "data": {
      "text/plain": [
       "Text(0, 0.5, 'Ev_Ebitda')"
      ]
     },
     "execution_count": 54,
     "metadata": {},
     "output_type": "execute_result"
    },
    {
     "data": {
      "image/png": "[encoded data removed]",
      "text/plain": [
       "<Figure size 1000x500 with 2 Axes>"
      ]
     },
     "metadata": {},
     "output_type": "display_data"
    }
   ],
   "source": [
    "df_rl[['Cotação','Ev_Ebitda','PL']].plot(secondary_y='Ev_Ebitda',mark_right=False,figsize=(10,5));\n",
    "plt.title(f'Cotação | Ev_Ebitda | PL da Ação {ticker}');\n",
    "plt.ylabel('Ev_Ebitda')"
   ]
  },
  {
   "cell_type": "markdown",
   "metadata": {},
   "source": [
    "# IFR"
   ]
  },
  {
   "cell_type": "code",
   "execution_count": 55,
   "metadata": {},
   "outputs": [
    {
     "name": "stderr",
     "output_type": "stream",
     "text": [
      "C:\\Users\\Lucas\\AppData\\Local\\Temp\\ipykernel_33588\\1464936060.py:18: FutureWarning: Series.__getitem__ treating keys as positions is deprecated. In a future version, integer keys will always be treated as labels (consistent with DataFrame behavior). To access a value by position, use `ser.iloc[pos]`\n",
      "  classic_avg_gain[i] = (classic_avg_gain[i - 1] * (n - 1) + df_ifr['Gain'].iloc[i]) / n\n",
      "C:\\Users\\Lucas\\AppData\\Local\\Temp\\ipykernel_33588\\1464936060.py:18: FutureWarning: Series.__setitem__ treating keys as positions is deprecated. In a future version, integer keys will always be treated as labels (consistent with DataFrame behavior). To set a value by position, use `ser.iloc[pos] = value`\n",
      "  classic_avg_gain[i] = (classic_avg_gain[i - 1] * (n - 1) + df_ifr['Gain'].iloc[i]) / n\n",
      "C:\\Users\\Lucas\\AppData\\Local\\Temp\\ipykernel_33588\\1464936060.py:19: FutureWarning: Series.__getitem__ treating keys as positions is deprecated. In a future version, integer keys will always be treated as labels (consistent with DataFrame behavior). To access a value by position, use `ser.iloc[pos]`\n",
      "  classic_avg_loss[i] = (classic_avg_loss[i - 1] * (n - 1) + df_ifr['Loss'].abs().iloc[i]) / n\n",
      "C:\\Users\\Lucas\\AppData\\Local\\Temp\\ipykernel_33588\\1464936060.py:19: FutureWarning: Series.__setitem__ treating keys as positions is deprecated. In a future version, integer keys will always be treated as labels (consistent with DataFrame behavior). To set a value by position, use `ser.iloc[pos] = value`\n",
      "  classic_avg_loss[i] = (classic_avg_loss[i - 1] * (n - 1) + df_ifr['Loss'].abs().iloc[i]) / n\n"
     ]
    },
    {
     "data": {
      "image/png": "[encoded data removed]",
      "text/plain": [
       "<Figure size 1000x500 with 1 Axes>"
      ]
     },
     "metadata": {},
     "output_type": "display_data"
    }
   ],
   "source": [
    "df_ifr = df_rl.copy()\n",
    "df_ifr.drop(['PL','Ev_Ebitda','VPA'], axis=1, inplace=True)\n",
    "\n",
    "df_ifr['Variation'] = df_ifr['Cotação'].diff()\n",
    "\n",
    "df_ifr['Gain'] = np.where(df_ifr['Variation'] > 0, df_ifr['Variation'], 0) \n",
    "df_ifr['Loss'] = np.where(df_ifr['Variation'] < 0, df_ifr['Variation'], 0)\n",
    "\n",
    "n = 14 # define window interval\n",
    "simple_avg_gain = df_ifr['Gain'].rolling(n).mean()\n",
    "simple_avg_loss = df_ifr['Loss'].abs().rolling(n).mean()\n",
    "\n",
    "classic_avg_gain = simple_avg_gain.copy()\n",
    "classic_avg_loss = simple_avg_loss.copy()\n",
    "\n",
    "# iterate over the new series but only change values after the nth element\n",
    "for i in range(n, len(classic_avg_gain)):\n",
    "    classic_avg_gain[i] = (classic_avg_gain[i - 1] * (n - 1) + df_ifr['Gain'].iloc[i]) / n\n",
    "    classic_avg_loss[i] = (classic_avg_loss[i - 1] * (n - 1) + df_ifr['Loss'].abs().iloc[i]) / n\n",
    "\n",
    "df_ifr['Simple RS'] = simple_avg_gain / simple_avg_loss\n",
    "df_ifr['Classic RS'] = classic_avg_gain / classic_avg_loss    \n",
    "\n",
    "df_ifr['Simple RSI'] = 100 - (100 / (1 + df_ifr['Simple RS']))\n",
    "df_ifr['Classic RSI'] = 100 - (100 / (1 + df_ifr['Classic RS']))\n",
    "\n",
    "plt.figure(figsize=(10,5))\n",
    "plt.title(f\"IFR {ticker}\")\n",
    "df_ifr['Classic RSI'].plot()\n",
    "plt.axhline(y=30, color='black', linestyle='--')\n",
    "plt.axhline(y=70, color='black', linestyle='--')\n",
    "plt.axhspan(30, 70, color='thistle')\n",
    "plt.ylim(0, 100)\n",
    "plt.show()"
   ]
  },
  {
   "cell_type": "code",
   "execution_count": 2,
   "metadata": {},
   "outputs": [],
   "source": [
    "import yfinance as yf\n",
    "from datetime import date\n",
    "\n",
    "inicio = \"2010-01-01\"\n",
    "fim = date.today()\n",
    "\n",
    "df = yf.download(\n",
    "        f\"ITSA4.SA\",\n",
    "        start=inicio,\n",
    "        end=fim,\n",
    "        progress=False,\n",
    "        threads=False,\n",
    ")"
   ]
  },
  {
   "cell_type": "code",
   "execution_count": 3,
   "metadata": {},
   "outputs": [],
   "source": [
    "df[\"ret\"] = round((df[\"Adj Close\"].pct_change()) * 100, 2)\n",
    "df[\"Returns\"] = df[\"Adj Close\"].pct_change(1)"
   ]
  },
  {
   "cell_type": "code",
   "execution_count": 4,
   "metadata": {},
   "outputs": [
    {
     "data": {
      "text/html": [
       "<div>\n",
       "<style scoped>\n",
       "    .dataframe tbody tr th:only-of-type {\n",
       "        vertical-align: middle;\n",
       "    }\n",
       "\n",
       "    .dataframe tbody tr th {\n",
       "        vertical-align: top;\n",
       "    }\n",
       "\n",
       "    .dataframe thead th {\n",
       "        text-align: right;\n",
       "    }\n",
       "</style>\n",
       "<table border=\"1\" class=\"dataframe\">\n",
       "  <thead>\n",
       "    <tr style=\"text-align: right;\">\n",
       "      <th></th>\n",
       "      <th>Open</th>\n",
       "      <th>High</th>\n",
       "      <th>Low</th>\n",
       "      <th>Close</th>\n",
       "      <th>Adj Close</th>\n",
       "      <th>Volume</th>\n",
       "      <th>ret</th>\n",
       "      <th>Returns</th>\n",
       "    </tr>\n",
       "    <tr>\n",
       "      <th>Date</th>\n",
       "      <th></th>\n",
       "      <th></th>\n",
       "      <th></th>\n",
       "      <th></th>\n",
       "      <th></th>\n",
       "      <th></th>\n",
       "      <th></th>\n",
       "      <th></th>\n",
       "    </tr>\n",
       "  </thead>\n",
       "  <tbody>\n",
       "    <tr>\n",
       "      <th>2010-01-04</th>\n",
       "      <td>5.677845</td>\n",
       "      <td>5.901908</td>\n",
       "      <td>5.677845</td>\n",
       "      <td>5.897140</td>\n",
       "      <td>3.082911</td>\n",
       "      <td>11093298.0</td>\n",
       "      <td>NaN</td>\n",
       "      <td>NaN</td>\n",
       "    </tr>\n",
       "    <tr>\n",
       "      <th>2010-01-05</th>\n",
       "      <td>5.930511</td>\n",
       "      <td>5.940046</td>\n",
       "      <td>5.820864</td>\n",
       "      <td>5.878071</td>\n",
       "      <td>3.072940</td>\n",
       "      <td>10565325.0</td>\n",
       "      <td>-0.32</td>\n",
       "      <td>-0.003234</td>\n",
       "    </tr>\n",
       "    <tr>\n",
       "      <th>2010-01-06</th>\n",
       "      <td>5.859002</td>\n",
       "      <td>5.906675</td>\n",
       "      <td>5.797027</td>\n",
       "      <td>5.806562</td>\n",
       "      <td>3.035557</td>\n",
       "      <td>10640630.0</td>\n",
       "      <td>-1.22</td>\n",
       "      <td>-0.012165</td>\n",
       "    </tr>\n",
       "    <tr>\n",
       "      <th>2010-01-07</th>\n",
       "      <td>5.792260</td>\n",
       "      <td>5.811329</td>\n",
       "      <td>5.725518</td>\n",
       "      <td>5.773191</td>\n",
       "      <td>3.018111</td>\n",
       "      <td>8893307.0</td>\n",
       "      <td>-0.57</td>\n",
       "      <td>-0.005747</td>\n",
       "    </tr>\n",
       "    <tr>\n",
       "      <th>2010-01-08</th>\n",
       "      <td>5.754122</td>\n",
       "      <td>5.792260</td>\n",
       "      <td>5.701681</td>\n",
       "      <td>5.730285</td>\n",
       "      <td>2.995681</td>\n",
       "      <td>9374713.0</td>\n",
       "      <td>-0.74</td>\n",
       "      <td>-0.007432</td>\n",
       "    </tr>\n",
       "  </tbody>\n",
       "</table>\n",
       "</div>"
      ],
      "text/plain": [
       "                Open      High       Low     Close  Adj Close      Volume  \\\n",
       "Date                                                                        \n",
       "2010-01-04  5.677845  5.901908  5.677845  5.897140   3.082911  11093298.0   \n",
       "2010-01-05  5.930511  5.940046  5.820864  5.878071   3.072940  10565325.0   \n",
       "2010-01-06  5.859002  5.906675  5.797027  5.806562   3.035557  10640630.0   \n",
       "2010-01-07  5.792260  5.811329  5.725518  5.773191   3.018111   8893307.0   \n",
       "2010-01-08  5.754122  5.792260  5.701681  5.730285   2.995681   9374713.0   \n",
       "\n",
       "             ret   Returns  \n",
       "Date                        \n",
       "2010-01-04   NaN       NaN  \n",
       "2010-01-05 -0.32 -0.003234  \n",
       "2010-01-06 -1.22 -0.012165  \n",
       "2010-01-07 -0.57 -0.005747  \n",
       "2010-01-08 -0.74 -0.007432  "
      ]
     },
     "execution_count": 4,
     "metadata": {},
     "output_type": "execute_result"
    }
   ],
   "source": [
    "df.head()"
   ]
  }
 ],
 "metadata": {
  "kernelspec": {
   "display_name": ".venv",
   "language": "python",
   "name": "python3"
  },
  "language_info": {
   "codemirror_mode": {
    "name": "ipython",
    "version": 3
   },
   "file_extension": ".py",
   "mimetype": "text/x-python",
   "name": "python",
   "nbconvert_exporter": "python",
   "pygments_lexer": "ipython3",
   "version": "3.11.5"
  },
  "orig_nbformat": 4,
  "vscode": {
   "interpreter": {
    "hash": "fb8413b4ec22e5ed3533d5b13fa3cfa6fb94399ee3c7e274203fdaa9ba57482e"
   }
  }
 },
 "nbformat": 4,
 "nbformat_minor": 2
}
