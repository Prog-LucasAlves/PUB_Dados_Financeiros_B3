{
 "cells": [
  {
   "cell_type": "code",
   "execution_count": 1,
   "metadata": {},
   "outputs": [
    {
     "data": {
      "text/plain": [
       "True"
      ]
     },
     "execution_count": 1,
     "metadata": {},
     "output_type": "execute_result"
    }
   ],
   "source": [
    "import pandas as pd\n",
    "import os\n",
    "import psycopg2\n",
    "import dotenv\n",
    "\n",
    "dotenv.load_dotenv(dotenv.find_dotenv())"
   ]
  },
  {
   "cell_type": "code",
   "execution_count": 2,
   "metadata": {},
   "outputs": [],
   "source": [
    "# Cria conexão com o banco de dados\n",
    "def conexao():\n",
    "    con = psycopg2.connect(\n",
    "        user=os.getenv(\"POSTGRES_USER\"),\n",
    "        password=os.getenv(\"POSTGRES_PASSWORD\"),\n",
    "        database=os.getenv(\"POSTGRES_DB\"),\n",
    "        host=\"localhost\",\n",
    "    )\n",
    "\n",
    "    return con\n",
    "\n",
    "# Cria função para selecionar os dados\n",
    "def se_dados(query):\n",
    "    vcon = conexao()\n",
    "    c = vcon.cursor()\n",
    "    c.execute(query)\n",
    "    rows = c.fetchall()\n",
    "    vcon.commit()\n",
    "    vcon.close()\n",
    "    return rows                    "
   ]
  },
  {
   "cell_type": "code",
   "execution_count": 5,
   "metadata": {},
   "outputs": [
    {
     "data": {
      "application/vnd.microsoft.datawrangler.viewer.v0+json": {
       "columns": [
        {
         "name": "index",
         "rawType": "int64",
         "type": "integer"
        },
        {
         "name": "Papel",
         "rawType": "object",
         "type": "string"
        },
        {
         "name": "Dívida Líquida",
         "rawType": "object",
         "type": "string"
        },
        {
         "name": "Cotação",
         "rawType": "object",
         "type": "string"
        },
        {
         "name": "PL",
         "rawType": "float64",
         "type": "float"
        },
        {
         "name": "VPA",
         "rawType": "float64",
         "type": "float"
        },
        {
         "name": "EV/Ebitda",
         "rawType": "float64",
         "type": "float"
        },
        {
         "name": "Margem Líquida",
         "rawType": "float64",
         "type": "float"
        },
        {
         "name": "Lucro Líquido 12m",
         "rawType": "object",
         "type": "string"
        },
        {
         "name": "Lucro Líquido 3m",
         "rawType": "object",
         "type": "string"
        }
       ],
       "conversionMethod": "pd.DataFrame",
       "ref": "d06acf51-fcbd-400e-bb65-b629dc01dc43",
       "rows": [
        [
         "0",
         "PSSA3",
         "-R$ 9.606.050.000,00",
         "R$ 41,60",
         "10.17",
         "21.73",
         "0.0",
         "0.0",
         "R$ 2.644.850.000,00",
         "R$ 670.765.000,00"
        ],
        [
         "1",
         "CMIN3",
         "-R$ 5.071.100.000,00",
         "R$ 6,07",
         "7.35",
         "1.87",
         "0.0",
         "0.0",
         "R$ 4.527.720.000,00",
         "R$ 2.016.030.000,00"
        ],
        [
         "2",
         "WHRL3",
         "-R$ 2.285.250.000,00",
         "R$ 3,98",
         "6.58",
         "1.79",
         "0.0",
         "0.0",
         "R$ 908.716.000,00",
         "R$ 277.786.000,00"
        ],
        [
         "3",
         "WHRL4",
         "-R$ 2.285.250.000,00",
         "R$ 4,45",
         "7.36",
         "1.79",
         "0.0",
         "0.0",
         "R$ 908.716.000,00",
         "R$ 277.786.000,00"
        ],
        [
         "4",
         "LREN3",
         "-R$ 1.825.810.000,00",
         "R$ 12,91",
         "11.43",
         "10.17",
         "0.0",
         "0.0",
         "R$ 1.196.670.000,00",
         "R$ 487.168.000,00"
        ],
        [
         "5",
         "CXSE3",
         "-R$ 1.209.920.000,00",
         "R$ 16,11",
         "12.84",
         "4.3",
         "0.0",
         "0.0",
         "R$ 3.765.180.000,00",
         "R$ 1.167.000.000,00"
        ],
        [
         "6",
         "GRND3",
         "-R$ 1.074.950.000,00",
         "R$ 5,26",
         "6.45",
         "4.48",
         "0.0",
         "0.0",
         "R$ 735.236.000,00",
         "R$ 330.383.000,00"
        ]
       ],
       "shape": {
        "columns": 9,
        "rows": 7
       }
      },
      "text/html": [
       "<div>\n",
       "<style scoped>\n",
       "    .dataframe tbody tr th:only-of-type {\n",
       "        vertical-align: middle;\n",
       "    }\n",
       "\n",
       "    .dataframe tbody tr th {\n",
       "        vertical-align: top;\n",
       "    }\n",
       "\n",
       "    .dataframe thead th {\n",
       "        text-align: right;\n",
       "    }\n",
       "</style>\n",
       "<table border=\"1\" class=\"dataframe\">\n",
       "  <thead>\n",
       "    <tr style=\"text-align: right;\">\n",
       "      <th></th>\n",
       "      <th>Papel</th>\n",
       "      <th>Dívida Líquida</th>\n",
       "      <th>Cotação</th>\n",
       "      <th>PL</th>\n",
       "      <th>VPA</th>\n",
       "      <th>EV/Ebitda</th>\n",
       "      <th>Margem Líquida</th>\n",
       "      <th>Lucro Líquido 12m</th>\n",
       "      <th>Lucro Líquido 3m</th>\n",
       "    </tr>\n",
       "  </thead>\n",
       "  <tbody>\n",
       "    <tr>\n",
       "      <th>0</th>\n",
       "      <td>PSSA3</td>\n",
       "      <td>-R$ 9.606.050.000,00</td>\n",
       "      <td>R$ 41,60</td>\n",
       "      <td>10.17</td>\n",
       "      <td>21.73</td>\n",
       "      <td>0.0</td>\n",
       "      <td>0.0</td>\n",
       "      <td>R$ 2.644.850.000,00</td>\n",
       "      <td>R$ 670.765.000,00</td>\n",
       "    </tr>\n",
       "    <tr>\n",
       "      <th>1</th>\n",
       "      <td>CMIN3</td>\n",
       "      <td>-R$ 5.071.100.000,00</td>\n",
       "      <td>R$ 6,07</td>\n",
       "      <td>7.35</td>\n",
       "      <td>1.87</td>\n",
       "      <td>0.0</td>\n",
       "      <td>0.0</td>\n",
       "      <td>R$ 4.527.720.000,00</td>\n",
       "      <td>R$ 2.016.030.000,00</td>\n",
       "    </tr>\n",
       "    <tr>\n",
       "      <th>2</th>\n",
       "      <td>WHRL3</td>\n",
       "      <td>-R$ 2.285.250.000,00</td>\n",
       "      <td>R$ 3,98</td>\n",
       "      <td>6.58</td>\n",
       "      <td>1.79</td>\n",
       "      <td>0.0</td>\n",
       "      <td>0.0</td>\n",
       "      <td>R$ 908.716.000,00</td>\n",
       "      <td>R$ 277.786.000,00</td>\n",
       "    </tr>\n",
       "    <tr>\n",
       "      <th>3</th>\n",
       "      <td>WHRL4</td>\n",
       "      <td>-R$ 2.285.250.000,00</td>\n",
       "      <td>R$ 4,45</td>\n",
       "      <td>7.36</td>\n",
       "      <td>1.79</td>\n",
       "      <td>0.0</td>\n",
       "      <td>0.0</td>\n",
       "      <td>R$ 908.716.000,00</td>\n",
       "      <td>R$ 277.786.000,00</td>\n",
       "    </tr>\n",
       "    <tr>\n",
       "      <th>4</th>\n",
       "      <td>LREN3</td>\n",
       "      <td>-R$ 1.825.810.000,00</td>\n",
       "      <td>R$ 12,91</td>\n",
       "      <td>11.43</td>\n",
       "      <td>10.17</td>\n",
       "      <td>0.0</td>\n",
       "      <td>0.0</td>\n",
       "      <td>R$ 1.196.670.000,00</td>\n",
       "      <td>R$ 487.168.000,00</td>\n",
       "    </tr>\n",
       "    <tr>\n",
       "      <th>5</th>\n",
       "      <td>CXSE3</td>\n",
       "      <td>-R$ 1.209.920.000,00</td>\n",
       "      <td>R$ 16,11</td>\n",
       "      <td>12.84</td>\n",
       "      <td>4.30</td>\n",
       "      <td>0.0</td>\n",
       "      <td>0.0</td>\n",
       "      <td>R$ 3.765.180.000,00</td>\n",
       "      <td>R$ 1.167.000.000,00</td>\n",
       "    </tr>\n",
       "    <tr>\n",
       "      <th>6</th>\n",
       "      <td>GRND3</td>\n",
       "      <td>-R$ 1.074.950.000,00</td>\n",
       "      <td>R$ 5,26</td>\n",
       "      <td>6.45</td>\n",
       "      <td>4.48</td>\n",
       "      <td>0.0</td>\n",
       "      <td>0.0</td>\n",
       "      <td>R$ 735.236.000,00</td>\n",
       "      <td>R$ 330.383.000,00</td>\n",
       "    </tr>\n",
       "  </tbody>\n",
       "</table>\n",
       "</div>"
      ],
      "text/plain": [
       "   Papel        Dívida Líquida   Cotação     PL    VPA  EV/Ebitda  \\\n",
       "0  PSSA3  -R$ 9.606.050.000,00  R$ 41,60  10.17  21.73        0.0   \n",
       "1  CMIN3  -R$ 5.071.100.000,00   R$ 6,07   7.35   1.87        0.0   \n",
       "2  WHRL3  -R$ 2.285.250.000,00   R$ 3,98   6.58   1.79        0.0   \n",
       "3  WHRL4  -R$ 2.285.250.000,00   R$ 4,45   7.36   1.79        0.0   \n",
       "4  LREN3  -R$ 1.825.810.000,00  R$ 12,91  11.43  10.17        0.0   \n",
       "5  CXSE3  -R$ 1.209.920.000,00  R$ 16,11  12.84   4.30        0.0   \n",
       "6  GRND3  -R$ 1.074.950.000,00   R$ 5,26   6.45   4.48        0.0   \n",
       "\n",
       "   Margem Líquida    Lucro Líquido 12m     Lucro Líquido 3m  \n",
       "0             0.0  R$ 2.644.850.000,00    R$ 670.765.000,00  \n",
       "1             0.0  R$ 4.527.720.000,00  R$ 2.016.030.000,00  \n",
       "2             0.0    R$ 908.716.000,00    R$ 277.786.000,00  \n",
       "3             0.0    R$ 908.716.000,00    R$ 277.786.000,00  \n",
       "4             0.0  R$ 1.196.670.000,00    R$ 487.168.000,00  \n",
       "5             0.0  R$ 3.765.180.000,00  R$ 1.167.000.000,00  \n",
       "6             0.0    R$ 735.236.000,00    R$ 330.383.000,00  "
      ]
     },
     "execution_count": 5,
     "metadata": {},
     "output_type": "execute_result"
    }
   ],
   "source": [
    "# Cria query para gerar o relatório\n",
    "query = f\" SELECT DISTINCT papel, div_liquida, cotacao, pl, vpa, ev_ebitda, marg_liquida, lucro_liquido_12m, lucro_liquido_3m \\\n",
    "            FROM dados \\\n",
    "                WHERE data_dado_inserido >= '23-04-2025' \\\n",
    "                    AND div_liquida < '0' \\\n",
    "                    AND pl > 5 \\\n",
    "                    AND pl < 15 \\\n",
    "                        ORDER BY 2 \"\n",
    "result = se_dados(query)\n",
    "\n",
    "# Cria DataFrame e salva o arquivo gerado em csv\n",
    "df_rl = pd.DataFrame(result)\n",
    "# Renomea o nome das colunas do Dataframe\n",
    "df_rl.rename(columns={0:'Papel', \n",
    "    1:'Dívida Líquida', \n",
    "    2:'Cotação',\n",
    "    3:'PL',\n",
    "    4:'VPA',\n",
    "    5:'EV/Ebitda',\n",
    "    6:'Margem Líquida',\n",
    "    7:'Lucro Líquido 12m',\n",
    "    8:'Lucro Líquido 3m'}, inplace=True)\n",
    "df_rl.to_csv('../Analise/relatorio.csv', sep=';', encoding='ISO-8859-1')\n",
    "df_rl.head(7)"
   ]
  },
  {
   "cell_type": "code",
   "execution_count": 4,
   "metadata": {},
   "outputs": [
    {
     "name": "stdout",
     "output_type": "stream",
     "text": [
      "Email Enviado\n"
     ]
    }
   ],
   "source": [
    "import win32com.client as win32\n",
    "import pathlib\n",
    "\n",
    "# Inserindo arquivo a ser anexado\n",
    "anexo = pathlib.Path('../Analise/relatorio.csv')\n",
    "anexo_ab = str(anexo.absolute())\n",
    "\n",
    "# Criar a integração com o outlook\n",
    "outlook = win32.Dispatch('outlook.application')\n",
    "\n",
    "# Criar um email\n",
    "email = outlook.CreateItem(0)\n",
    "\n",
    "# Configurar as informações do seu e-mail\n",
    "email.To = os.getenv(\"EMAIL\")\n",
    "email.Subject = \" Relatório - Ações listadas na Bolsa \"\n",
    "email.HTMLBody = f\"\"\"\n",
    "\n",
    "<p>Olá,</p>\n",
    "<br>\n",
    "<p>Segue em anexo o relatório solicitado.</p>\n",
    "<br>\n",
    "<p>Atenciosamente,</p>\n",
    "<p>Lucas Alves.</p>\n",
    "<p>Analista de Dados</p>\n",
    "<br>\n",
    "<img src=\"../Image/1-relatorio-gerencial.jpg\">\n",
    "\n",
    "\"\"\"\n",
    "# Configurar anexo\n",
    "email.Attachments.Add(anexo_ab)\n",
    "\n",
    "# Envia o e-mail\n",
    "email.Send()\n",
    "print(\"Email Enviado\")"
   ]
  }
 ],
 "metadata": {
  "kernelspec": {
   "display_name": ".venv",
   "language": "python",
   "name": "python3"
  },
  "language_info": {
   "codemirror_mode": {
    "name": "ipython",
    "version": 3
   },
   "file_extension": ".py",
   "mimetype": "text/x-python",
   "name": "python",
   "nbconvert_exporter": "python",
   "pygments_lexer": "ipython3",
   "version": "3.11.5"
  },
  "orig_nbformat": 4,
  "vscode": {
   "interpreter": {
    "hash": "fb8413b4ec22e5ed3533d5b13fa3cfa6fb94399ee3c7e274203fdaa9ba57482e"
   }
  }
 },
 "nbformat": 4,
 "nbformat_minor": 2
}
